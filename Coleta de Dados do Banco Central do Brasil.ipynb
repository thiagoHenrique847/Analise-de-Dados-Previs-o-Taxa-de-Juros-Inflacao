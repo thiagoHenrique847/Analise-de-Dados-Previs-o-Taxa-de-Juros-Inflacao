{
 "cells": [
  {
   "cell_type": "code",
   "execution_count": 1,
   "metadata": {},
   "outputs": [],
   "source": [
    "import requests \n",
    "import pandas as pd"
   ]
  },
  {
   "cell_type": "code",
   "execution_count": 2,
   "metadata": {},
   "outputs": [],
   "source": [
    "urlApiRequest = \"https://api.bcb.gov.br/dados/serie/bcdata.sgs.4189/dados?formato=json\"\n",
    "\n",
    "response = requests.get(urlApiRequest)\n",
    "data = response.json()"
   ]
  },
  {
   "cell_type": "code",
   "execution_count": null,
   "metadata": {},
   "outputs": [],
   "source": [
    "df = pd.DataFrame(data)\n",
    "df['Data'] = pd.to_datetime(df['data'], dayfirst=True)\n",
    "df['Valor']  = df['valor'].astype(float)\n",
    "df = df.drop(columns=['data', 'valor'])"
   ]
  },
  {
   "cell_type": "markdown",
   "metadata": {},
   "source": [
    "ARIMA (Auto-Regressive Integrated Moving Average): Is a general class of statistical models for time series analysis forecasting\n"
   ]
  }
 ],
 "metadata": {
  "kernelspec": {
   "display_name": "Python 3",
   "language": "python",
   "name": "python3"
  },
  "language_info": {
   "codemirror_mode": {
    "name": "ipython",
    "version": 3
   },
   "file_extension": ".py",
   "mimetype": "text/x-python",
   "name": "python",
   "nbconvert_exporter": "python",
   "pygments_lexer": "ipython3",
   "version": "3.11.3"
  }
 },
 "nbformat": 4,
 "nbformat_minor": 2
}
